{
 "cells": [
  {
   "cell_type": "markdown",
   "metadata": {
    "papermill": {
     "duration": 0.011374,
     "end_time": "2020-10-24T18:15:51.335687",
     "exception": false,
     "start_time": "2020-10-24T18:15:51.324313",
     "status": "completed"
    },
    "tags": []
   },
   "source": [
    "## Imports"
   ]
  },
  {
   "cell_type": "code",
   "execution_count": 1,
   "metadata": {
    "_cell_guid": "79c7e3d0-c299-4dcb-8224-4455121ee9b0",
    "_uuid": "d629ff2d2480ee46fbb7e2d37f6b5fab8052498a",
    "execution": {
     "iopub.execute_input": "2020-10-24T18:15:51.364286Z",
     "iopub.status.busy": "2020-10-24T18:15:51.363445Z",
     "iopub.status.idle": "2020-10-24T18:15:57.428130Z",
     "shell.execute_reply": "2020-10-24T18:15:57.426899Z"
    },
    "papermill": {
     "duration": 6.081786,
     "end_time": "2020-10-24T18:15:57.428255",
     "exception": false,
     "start_time": "2020-10-24T18:15:51.346469",
     "status": "completed"
    },
    "tags": []
   },
   "outputs": [],
   "source": [
    "import os\n",
    "import random\n",
    "import numpy as np\n",
    "import cv2\n",
    "import matplotlib.pyplot as plt\n",
    "from sklearn.metrics import accuracy_score\n",
    "import tensorflow as tf\n",
    "import keras\n",
    "from keras.models import Sequential\n",
    "from keras.layers import Dense, Activation, Conv2D, MaxPooling2D, Flatten, Dropout, BatchNormalization\n",
    "from keras.callbacks import EarlyStopping\n",
    "from tensorflow.keras.preprocessing.image import ImageDataGenerator\n",
    "import tensorflow as tf\n",
    "\n",
    "CATEGORIES = ['cats', 'dogs']\n",
    "train_dir = '/kaggle/input/dogs-cats-images/dog vs cat/dataset/training_set'\n",
    "test_dir = '/kaggle/input/dogs-cats-images/dog vs cat/dataset/test_set'"
   ]
  },
  {
   "cell_type": "markdown",
   "metadata": {
    "papermill": {
     "duration": 0.009933,
     "end_time": "2020-10-24T18:15:57.449296",
     "exception": false,
     "start_time": "2020-10-24T18:15:57.439363",
     "status": "completed"
    },
    "tags": []
   },
   "source": [
    "## Preparing Training and Testing Data"
   ]
  },
  {
   "cell_type": "markdown",
   "metadata": {
    "papermill": {
     "duration": 0.010309,
     "end_time": "2020-10-24T18:15:57.470069",
     "exception": false,
     "start_time": "2020-10-24T18:15:57.459760",
     "status": "completed"
    },
    "tags": []
   },
   "source": [
    "What I do here is merge the data for dogs and cats, and shuffle them for effective training. I also grayscale and resize them."
   ]
  },
  {
   "cell_type": "code",
   "execution_count": 2,
   "metadata": {
    "execution": {
     "iopub.execute_input": "2020-10-24T18:15:57.500497Z",
     "iopub.status.busy": "2020-10-24T18:15:57.499890Z",
     "iopub.status.idle": "2020-10-24T18:16:42.955687Z",
     "shell.execute_reply": "2020-10-24T18:16:42.955126Z"
    },
    "papermill": {
     "duration": 45.475095,
     "end_time": "2020-10-24T18:16:42.955804",
     "exception": false,
     "start_time": "2020-10-24T18:15:57.480709",
     "status": "completed"
    },
    "tags": []
   },
   "outputs": [],
   "source": [
    "IMG_SIZE = 64\n",
    "\n",
    "\n",
    "def create_data(directory):\n",
    "    a=[]\n",
    "    \n",
    "    for category in CATEGORIES:                     # CATEGORIES = ['cats', 'dogs']\n",
    "        path = os.path.join(directory, category)    # path\n",
    "        class_num = CATEGORIES.index(category)      # cats -> 0 | dogs -> 1\n",
    "        \n",
    "        for img in os.listdir(path):\n",
    "            img_arr = cv2.imread(os.path.join(path, img), cv2.IMREAD_GRAYSCALE)     # grayscale\n",
    "            new_arr = cv2.resize(img_arr, (IMG_SIZE, IMG_SIZE))                     # resize to 64*64\n",
    "            a.append([new_arr, class_num])          # append image with its class\n",
    "    \n",
    "    random.shuffle(a)                               # shuffle dogs and cats\n",
    "    return a\n",
    "    \n",
    "    \n",
    "# calling function for training and testing data\n",
    "training_data = create_data(train_dir)\n",
    "testing_data = create_data(test_dir)"
   ]
  },
  {
   "cell_type": "code",
   "execution_count": 3,
   "metadata": {
    "execution": {
     "iopub.execute_input": "2020-10-24T18:16:42.982801Z",
     "iopub.status.busy": "2020-10-24T18:16:42.981857Z",
     "iopub.status.idle": "2020-10-24T18:16:42.988955Z",
     "shell.execute_reply": "2020-10-24T18:16:42.988356Z"
    },
    "papermill": {
     "duration": 0.02213,
     "end_time": "2020-10-24T18:16:42.989056",
     "exception": false,
     "start_time": "2020-10-24T18:16:42.966926",
     "status": "completed"
    },
    "tags": []
   },
   "outputs": [
    {
     "name": "stdout",
     "output_type": "stream",
     "text": [
      "8000 2000\n"
     ]
    }
   ],
   "source": [
    "print(len(training_data), len(testing_data))"
   ]
  },
  {
   "cell_type": "markdown",
   "metadata": {
    "papermill": {
     "duration": 0.010733,
     "end_time": "2020-10-24T18:16:43.012437",
     "exception": false,
     "start_time": "2020-10-24T18:16:43.001704",
     "status": "completed"
    },
    "tags": []
   },
   "source": [
    "### Seperating Features and Label"
   ]
  },
  {
   "cell_type": "code",
   "execution_count": 4,
   "metadata": {
    "execution": {
     "iopub.execute_input": "2020-10-24T18:16:43.048400Z",
     "iopub.status.busy": "2020-10-24T18:16:43.047253Z",
     "iopub.status.idle": "2020-10-24T18:16:43.184863Z",
     "shell.execute_reply": "2020-10-24T18:16:43.184185Z"
    },
    "papermill": {
     "duration": 0.161951,
     "end_time": "2020-10-24T18:16:43.184992",
     "exception": false,
     "start_time": "2020-10-24T18:16:43.023041",
     "status": "completed"
    },
    "tags": []
   },
   "outputs": [],
   "source": [
    "X = []\n",
    "y = []\n",
    "\n",
    "for features, label in training_data:\n",
    "    X.append(features)                 # image features\n",
    "    y.append(label)                    # image label\n",
    "\n",
    "X = np.array(X).reshape(-1, IMG_SIZE, IMG_SIZE, 1)\n",
    "y = np.array(y)\n",
    "X = X/255.0                            # normalize\n",
    "\n",
    "test_sample = []\n",
    "actual = []\n",
    "\n",
    "for features, label in testing_data:\n",
    "    test_sample.append(features)\n",
    "    actual.append(label)\n",
    "\n",
    "test_sample = np.array(test_sample).reshape(-1, IMG_SIZE, IMG_SIZE, 1)\n",
    "actual = np.array(actual)\n",
    "test_sample = test_sample/255.0"
   ]
  },
  {
   "cell_type": "markdown",
   "metadata": {
    "papermill": {
     "duration": 0.011977,
     "end_time": "2020-10-24T18:16:43.209037",
     "exception": false,
     "start_time": "2020-10-24T18:16:43.197060",
     "status": "completed"
    },
    "tags": []
   },
   "source": [
    "### Data Augmentation"
   ]
  },
  {
   "cell_type": "code",
   "execution_count": 5,
   "metadata": {
    "execution": {
     "iopub.execute_input": "2020-10-24T18:16:43.240483Z",
     "iopub.status.busy": "2020-10-24T18:16:43.239236Z",
     "iopub.status.idle": "2020-10-24T18:16:43.344133Z",
     "shell.execute_reply": "2020-10-24T18:16:43.343617Z"
    },
    "papermill": {
     "duration": 0.123901,
     "end_time": "2020-10-24T18:16:43.344246",
     "exception": false,
     "start_time": "2020-10-24T18:16:43.220345",
     "status": "completed"
    },
    "tags": []
   },
   "outputs": [],
   "source": [
    "datagen = ImageDataGenerator(horizontal_flip = True)\n",
    "datagen.fit(X)"
   ]
  },
  {
   "cell_type": "markdown",
   "metadata": {
    "papermill": {
     "duration": 0.011507,
     "end_time": "2020-10-24T18:16:43.367351",
     "exception": false,
     "start_time": "2020-10-24T18:16:43.355844",
     "status": "completed"
    },
    "tags": []
   },
   "source": [
    "## Model"
   ]
  },
  {
   "cell_type": "code",
   "execution_count": 6,
   "metadata": {
    "execution": {
     "iopub.execute_input": "2020-10-24T18:16:43.409936Z",
     "iopub.status.busy": "2020-10-24T18:16:43.405024Z",
     "iopub.status.idle": "2020-10-24T18:29:30.957684Z",
     "shell.execute_reply": "2020-10-24T18:29:30.875562Z"
    },
    "papermill": {
     "duration": 767.577934,
     "end_time": "2020-10-24T18:29:30.957866",
     "exception": false,
     "start_time": "2020-10-24T18:16:43.379932",
     "status": "completed"
    },
    "tags": []
   },
   "outputs": [
    {
     "name": "stdout",
     "output_type": "stream",
     "text": [
      "Epoch 1/1000\n",
      "250/250 [==============================] - 4s 18ms/step - loss: 0.8074 - accuracy: 0.5734 - val_loss: 0.6309 - val_accuracy: 0.6470\n",
      "Epoch 2/1000\n",
      "250/250 [==============================] - 4s 16ms/step - loss: 0.6888 - accuracy: 0.6169 - val_loss: 0.6074 - val_accuracy: 0.6635\n",
      "Epoch 3/1000\n",
      "250/250 [==============================] - 4s 17ms/step - loss: 0.6175 - accuracy: 0.6693 - val_loss: 0.5445 - val_accuracy: 0.7260\n",
      "Epoch 4/1000\n",
      "250/250 [==============================] - 4s 17ms/step - loss: 0.5666 - accuracy: 0.7086 - val_loss: 0.5385 - val_accuracy: 0.7325\n",
      "Epoch 5/1000\n",
      "250/250 [==============================] - 4s 16ms/step - loss: 0.5403 - accuracy: 0.7335 - val_loss: 0.5121 - val_accuracy: 0.7455\n",
      "Epoch 6/1000\n",
      "250/250 [==============================] - 4s 17ms/step - loss: 0.5035 - accuracy: 0.7555 - val_loss: 0.4633 - val_accuracy: 0.7770\n",
      "Epoch 7/1000\n",
      "250/250 [==============================] - 4s 17ms/step - loss: 0.4849 - accuracy: 0.7666 - val_loss: 0.4479 - val_accuracy: 0.7915\n",
      "Epoch 8/1000\n",
      "250/250 [==============================] - 4s 16ms/step - loss: 0.4684 - accuracy: 0.7757 - val_loss: 0.4333 - val_accuracy: 0.8005\n",
      "Epoch 9/1000\n",
      "250/250 [==============================] - 4s 16ms/step - loss: 0.4491 - accuracy: 0.7840 - val_loss: 0.4992 - val_accuracy: 0.7700\n",
      "Epoch 10/1000\n",
      "250/250 [==============================] - 4s 16ms/step - loss: 0.4388 - accuracy: 0.7977 - val_loss: 0.4454 - val_accuracy: 0.7995\n",
      "Epoch 11/1000\n",
      "250/250 [==============================] - 4s 16ms/step - loss: 0.4192 - accuracy: 0.8059 - val_loss: 0.6088 - val_accuracy: 0.7200\n",
      "Epoch 12/1000\n",
      "250/250 [==============================] - 4s 16ms/step - loss: 0.4075 - accuracy: 0.8148 - val_loss: 0.3834 - val_accuracy: 0.8295\n",
      "Epoch 13/1000\n",
      "250/250 [==============================] - 4s 16ms/step - loss: 0.3953 - accuracy: 0.8204 - val_loss: 0.4032 - val_accuracy: 0.8190\n",
      "Epoch 14/1000\n",
      "250/250 [==============================] - 4s 16ms/step - loss: 0.3892 - accuracy: 0.8217 - val_loss: 0.3926 - val_accuracy: 0.8165\n",
      "Epoch 15/1000\n",
      "250/250 [==============================] - 4s 17ms/step - loss: 0.3689 - accuracy: 0.8355 - val_loss: 0.3314 - val_accuracy: 0.8515\n",
      "Epoch 16/1000\n",
      "250/250 [==============================] - 4s 16ms/step - loss: 0.3622 - accuracy: 0.8357 - val_loss: 0.3848 - val_accuracy: 0.8195\n",
      "Epoch 17/1000\n",
      "250/250 [==============================] - 4s 17ms/step - loss: 0.3610 - accuracy: 0.8360 - val_loss: 0.4628 - val_accuracy: 0.7880\n",
      "Epoch 18/1000\n",
      "250/250 [==============================] - 4s 17ms/step - loss: 0.3530 - accuracy: 0.8416 - val_loss: 0.3329 - val_accuracy: 0.8510\n",
      "Epoch 19/1000\n",
      "250/250 [==============================] - 4s 17ms/step - loss: 0.3373 - accuracy: 0.8550 - val_loss: 0.3391 - val_accuracy: 0.8450\n",
      "Epoch 20/1000\n",
      "250/250 [==============================] - 4s 16ms/step - loss: 0.3402 - accuracy: 0.8530 - val_loss: 0.3287 - val_accuracy: 0.8590\n",
      "Epoch 21/1000\n",
      "250/250 [==============================] - 4s 16ms/step - loss: 0.3283 - accuracy: 0.8539 - val_loss: 0.2963 - val_accuracy: 0.8825\n",
      "Epoch 22/1000\n",
      "250/250 [==============================] - 4s 17ms/step - loss: 0.3216 - accuracy: 0.8597 - val_loss: 0.2896 - val_accuracy: 0.8780\n",
      "Epoch 23/1000\n",
      "250/250 [==============================] - 4s 16ms/step - loss: 0.3165 - accuracy: 0.8581 - val_loss: 0.4039 - val_accuracy: 0.8150\n",
      "Epoch 24/1000\n",
      "250/250 [==============================] - 4s 16ms/step - loss: 0.3079 - accuracy: 0.8692 - val_loss: 0.2918 - val_accuracy: 0.8680\n",
      "Epoch 25/1000\n",
      "250/250 [==============================] - 4s 16ms/step - loss: 0.2955 - accuracy: 0.8730 - val_loss: 0.3488 - val_accuracy: 0.8470\n",
      "Epoch 26/1000\n",
      "250/250 [==============================] - 4s 16ms/step - loss: 0.2931 - accuracy: 0.8734 - val_loss: 0.2748 - val_accuracy: 0.8895\n",
      "Epoch 27/1000\n",
      "250/250 [==============================] - 4s 17ms/step - loss: 0.2931 - accuracy: 0.8741 - val_loss: 0.2687 - val_accuracy: 0.8890\n",
      "Epoch 28/1000\n",
      "250/250 [==============================] - 4s 16ms/step - loss: 0.2829 - accuracy: 0.8825 - val_loss: 0.2995 - val_accuracy: 0.8700\n",
      "Epoch 29/1000\n",
      "250/250 [==============================] - 4s 16ms/step - loss: 0.2778 - accuracy: 0.8823 - val_loss: 0.2777 - val_accuracy: 0.8905\n",
      "Epoch 30/1000\n",
      "250/250 [==============================] - 4s 17ms/step - loss: 0.2693 - accuracy: 0.8867 - val_loss: 0.3042 - val_accuracy: 0.8710\n",
      "Epoch 31/1000\n",
      "250/250 [==============================] - 4s 16ms/step - loss: 0.2751 - accuracy: 0.8804 - val_loss: 0.2679 - val_accuracy: 0.8840\n",
      "Epoch 32/1000\n",
      "250/250 [==============================] - 4s 17ms/step - loss: 0.2582 - accuracy: 0.8884 - val_loss: 0.2890 - val_accuracy: 0.8760\n",
      "Epoch 33/1000\n",
      "250/250 [==============================] - 4s 17ms/step - loss: 0.2553 - accuracy: 0.8913 - val_loss: 0.3029 - val_accuracy: 0.8710\n",
      "Epoch 34/1000\n",
      "250/250 [==============================] - 4s 16ms/step - loss: 0.2548 - accuracy: 0.8896 - val_loss: 0.2527 - val_accuracy: 0.8910\n",
      "Epoch 35/1000\n",
      "250/250 [==============================] - 4s 16ms/step - loss: 0.2535 - accuracy: 0.8913 - val_loss: 0.2586 - val_accuracy: 0.8960\n",
      "Epoch 36/1000\n",
      "250/250 [==============================] - 4s 16ms/step - loss: 0.2416 - accuracy: 0.8997 - val_loss: 0.2625 - val_accuracy: 0.8895\n",
      "Epoch 37/1000\n",
      "250/250 [==============================] - 4s 16ms/step - loss: 0.2457 - accuracy: 0.8953 - val_loss: 0.2578 - val_accuracy: 0.8895\n",
      "Epoch 38/1000\n",
      "250/250 [==============================] - 4s 18ms/step - loss: 0.2265 - accuracy: 0.9045 - val_loss: 0.2886 - val_accuracy: 0.8760\n",
      "Epoch 39/1000\n",
      "250/250 [==============================] - 4s 16ms/step - loss: 0.2350 - accuracy: 0.9050 - val_loss: 0.2587 - val_accuracy: 0.8930\n",
      "Epoch 40/1000\n",
      "250/250 [==============================] - 4s 16ms/step - loss: 0.2188 - accuracy: 0.9060 - val_loss: 0.2374 - val_accuracy: 0.9075\n",
      "Epoch 41/1000\n",
      "250/250 [==============================] - 4s 16ms/step - loss: 0.2294 - accuracy: 0.9025 - val_loss: 0.2419 - val_accuracy: 0.9065\n",
      "Epoch 42/1000\n",
      "250/250 [==============================] - 4s 16ms/step - loss: 0.2096 - accuracy: 0.9104 - val_loss: 0.2462 - val_accuracy: 0.8950\n",
      "Epoch 43/1000\n",
      "250/250 [==============================] - 4s 18ms/step - loss: 0.2176 - accuracy: 0.9095 - val_loss: 0.2574 - val_accuracy: 0.8935\n",
      "Epoch 44/1000\n",
      "250/250 [==============================] - 4s 16ms/step - loss: 0.2069 - accuracy: 0.9155 - val_loss: 0.2524 - val_accuracy: 0.8850\n",
      "Epoch 45/1000\n",
      "250/250 [==============================] - 4s 16ms/step - loss: 0.2091 - accuracy: 0.9129 - val_loss: 0.2401 - val_accuracy: 0.9010\n",
      "Epoch 46/1000\n",
      "250/250 [==============================] - 4s 17ms/step - loss: 0.1984 - accuracy: 0.9168 - val_loss: 0.2241 - val_accuracy: 0.9145\n",
      "Epoch 47/1000\n",
      "250/250 [==============================] - 4s 17ms/step - loss: 0.1985 - accuracy: 0.9183 - val_loss: 0.2381 - val_accuracy: 0.9045\n",
      "Epoch 48/1000\n",
      "250/250 [==============================] - 4s 16ms/step - loss: 0.1995 - accuracy: 0.9172 - val_loss: 0.2535 - val_accuracy: 0.8990\n",
      "Epoch 49/1000\n",
      "250/250 [==============================] - 4s 16ms/step - loss: 0.2047 - accuracy: 0.9141 - val_loss: 0.2988 - val_accuracy: 0.8820\n",
      "Epoch 50/1000\n",
      "250/250 [==============================] - 4s 16ms/step - loss: 0.1892 - accuracy: 0.9200 - val_loss: 0.2371 - val_accuracy: 0.8960\n",
      "Epoch 51/1000\n",
      "250/250 [==============================] - 4s 17ms/step - loss: 0.1814 - accuracy: 0.9235 - val_loss: 0.2436 - val_accuracy: 0.9035\n",
      "Epoch 52/1000\n",
      "250/250 [==============================] - 4s 16ms/step - loss: 0.1891 - accuracy: 0.9215 - val_loss: 0.2333 - val_accuracy: 0.9080\n",
      "Epoch 53/1000\n",
      "250/250 [==============================] - 4s 17ms/step - loss: 0.1827 - accuracy: 0.9265 - val_loss: 0.2390 - val_accuracy: 0.9040\n",
      "Epoch 54/1000\n",
      "250/250 [==============================] - 4s 16ms/step - loss: 0.1761 - accuracy: 0.9290 - val_loss: 0.2365 - val_accuracy: 0.9065\n",
      "Epoch 55/1000\n",
      "250/250 [==============================] - 4s 16ms/step - loss: 0.1757 - accuracy: 0.9256 - val_loss: 0.2286 - val_accuracy: 0.9055\n",
      "Epoch 56/1000\n",
      "250/250 [==============================] - 4s 17ms/step - loss: 0.1783 - accuracy: 0.9255 - val_loss: 0.2240 - val_accuracy: 0.9100\n",
      "Epoch 57/1000\n",
      "250/250 [==============================] - 4s 16ms/step - loss: 0.1664 - accuracy: 0.9325 - val_loss: 0.2198 - val_accuracy: 0.9095\n",
      "Epoch 58/1000\n",
      "250/250 [==============================] - 4s 16ms/step - loss: 0.1657 - accuracy: 0.9317 - val_loss: 0.2258 - val_accuracy: 0.9055\n",
      "Epoch 59/1000\n",
      "250/250 [==============================] - 4s 17ms/step - loss: 0.1715 - accuracy: 0.9296 - val_loss: 0.2199 - val_accuracy: 0.9085\n",
      "Epoch 60/1000\n",
      "250/250 [==============================] - 4s 16ms/step - loss: 0.1629 - accuracy: 0.9317 - val_loss: 0.2284 - val_accuracy: 0.9130\n",
      "Epoch 61/1000\n",
      "250/250 [==============================] - 5s 18ms/step - loss: 0.1652 - accuracy: 0.9298 - val_loss: 0.2370 - val_accuracy: 0.9080\n",
      "Epoch 62/1000\n",
      "250/250 [==============================] - 4s 17ms/step - loss: 0.1675 - accuracy: 0.9320 - val_loss: 0.2488 - val_accuracy: 0.9005\n",
      "Epoch 63/1000\n",
      "250/250 [==============================] - 4s 16ms/step - loss: 0.1581 - accuracy: 0.9360 - val_loss: 0.2258 - val_accuracy: 0.9105\n",
      "Epoch 64/1000\n",
      "250/250 [==============================] - 4s 16ms/step - loss: 0.1537 - accuracy: 0.9356 - val_loss: 0.2310 - val_accuracy: 0.9040\n",
      "Epoch 65/1000\n",
      "250/250 [==============================] - 4s 16ms/step - loss: 0.1580 - accuracy: 0.9319 - val_loss: 0.2112 - val_accuracy: 0.9175\n",
      "Epoch 66/1000\n",
      "250/250 [==============================] - 4s 17ms/step - loss: 0.1500 - accuracy: 0.9391 - val_loss: 0.2284 - val_accuracy: 0.9145\n",
      "Epoch 67/1000\n",
      "250/250 [==============================] - 4s 17ms/step - loss: 0.1603 - accuracy: 0.9329 - val_loss: 0.2311 - val_accuracy: 0.9145\n",
      "Epoch 68/1000\n",
      "250/250 [==============================] - 4s 17ms/step - loss: 0.1417 - accuracy: 0.9433 - val_loss: 0.2247 - val_accuracy: 0.9135\n",
      "Epoch 69/1000\n",
      "250/250 [==============================] - 4s 17ms/step - loss: 0.1530 - accuracy: 0.9390 - val_loss: 0.2456 - val_accuracy: 0.9050\n",
      "Epoch 70/1000\n",
      "250/250 [==============================] - 4s 16ms/step - loss: 0.1472 - accuracy: 0.9402 - val_loss: 0.2423 - val_accuracy: 0.9095\n",
      "Epoch 71/1000\n",
      "250/250 [==============================] - 4s 16ms/step - loss: 0.1413 - accuracy: 0.9474 - val_loss: 0.2275 - val_accuracy: 0.9070\n",
      "Epoch 72/1000\n",
      "250/250 [==============================] - 4s 16ms/step - loss: 0.1428 - accuracy: 0.9413 - val_loss: 0.2677 - val_accuracy: 0.9060\n",
      "Epoch 73/1000\n",
      "250/250 [==============================] - 4s 16ms/step - loss: 0.1383 - accuracy: 0.9442 - val_loss: 0.2334 - val_accuracy: 0.9145\n",
      "Epoch 74/1000\n",
      "250/250 [==============================] - 4s 17ms/step - loss: 0.1398 - accuracy: 0.9424 - val_loss: 0.2360 - val_accuracy: 0.9105\n",
      "Epoch 75/1000\n",
      "250/250 [==============================] - 4s 17ms/step - loss: 0.1285 - accuracy: 0.9520 - val_loss: 0.2523 - val_accuracy: 0.9095\n",
      "Epoch 76/1000\n",
      "250/250 [==============================] - 4s 18ms/step - loss: 0.1380 - accuracy: 0.9435 - val_loss: 0.2099 - val_accuracy: 0.9165\n",
      "Epoch 77/1000\n",
      "250/250 [==============================] - 4s 16ms/step - loss: 0.1400 - accuracy: 0.9455 - val_loss: 0.2142 - val_accuracy: 0.9195\n",
      "Epoch 78/1000\n",
      "250/250 [==============================] - 4s 16ms/step - loss: 0.1283 - accuracy: 0.9461 - val_loss: 0.2424 - val_accuracy: 0.9080\n",
      "Epoch 79/1000\n",
      "250/250 [==============================] - 4s 16ms/step - loss: 0.1300 - accuracy: 0.9456 - val_loss: 0.2233 - val_accuracy: 0.9130\n",
      "Epoch 80/1000\n",
      "250/250 [==============================] - 4s 16ms/step - loss: 0.1304 - accuracy: 0.9477 - val_loss: 0.2127 - val_accuracy: 0.9165\n",
      "Epoch 81/1000\n",
      "250/250 [==============================] - 4s 16ms/step - loss: 0.1313 - accuracy: 0.9449 - val_loss: 0.2551 - val_accuracy: 0.9065\n",
      "Epoch 82/1000\n",
      "250/250 [==============================] - 4s 17ms/step - loss: 0.1324 - accuracy: 0.9474 - val_loss: 0.2321 - val_accuracy: 0.9125\n",
      "Epoch 83/1000\n",
      "250/250 [==============================] - 4s 16ms/step - loss: 0.1288 - accuracy: 0.9480 - val_loss: 0.2205 - val_accuracy: 0.9200\n",
      "Epoch 84/1000\n",
      "250/250 [==============================] - 4s 16ms/step - loss: 0.1285 - accuracy: 0.9482 - val_loss: 0.2490 - val_accuracy: 0.9015\n",
      "Epoch 85/1000\n",
      "250/250 [==============================] - 4s 16ms/step - loss: 0.1268 - accuracy: 0.9505 - val_loss: 0.2243 - val_accuracy: 0.9170\n",
      "Epoch 86/1000\n",
      "250/250 [==============================] - 4s 16ms/step - loss: 0.1274 - accuracy: 0.9509 - val_loss: 0.2188 - val_accuracy: 0.9200\n",
      "Epoch 87/1000\n",
      "250/250 [==============================] - 4s 16ms/step - loss: 0.1258 - accuracy: 0.9495 - val_loss: 0.2220 - val_accuracy: 0.9120\n",
      "Epoch 88/1000\n",
      "250/250 [==============================] - 4s 16ms/step - loss: 0.1242 - accuracy: 0.9496 - val_loss: 0.2070 - val_accuracy: 0.9180\n",
      "Epoch 89/1000\n",
      "250/250 [==============================] - 4s 16ms/step - loss: 0.1308 - accuracy: 0.9486 - val_loss: 0.2288 - val_accuracy: 0.9145\n",
      "Epoch 90/1000\n",
      "250/250 [==============================] - 5s 18ms/step - loss: 0.1200 - accuracy: 0.9528 - val_loss: 0.2276 - val_accuracy: 0.9155\n",
      "Epoch 91/1000\n",
      "250/250 [==============================] - 4s 17ms/step - loss: 0.1109 - accuracy: 0.9571 - val_loss: 0.2332 - val_accuracy: 0.9140\n",
      "Epoch 92/1000\n",
      "250/250 [==============================] - 4s 17ms/step - loss: 0.1196 - accuracy: 0.9490 - val_loss: 0.2468 - val_accuracy: 0.9105\n",
      "Epoch 93/1000\n",
      "250/250 [==============================] - 4s 16ms/step - loss: 0.1210 - accuracy: 0.9524 - val_loss: 0.2170 - val_accuracy: 0.9190\n",
      "Epoch 94/1000\n",
      "250/250 [==============================] - 4s 16ms/step - loss: 0.1130 - accuracy: 0.9549 - val_loss: 0.2179 - val_accuracy: 0.9150\n",
      "Epoch 95/1000\n",
      "250/250 [==============================] - 4s 16ms/step - loss: 0.1209 - accuracy: 0.9515 - val_loss: 0.2227 - val_accuracy: 0.9180\n",
      "Epoch 96/1000\n",
      "250/250 [==============================] - 4s 16ms/step - loss: 0.1142 - accuracy: 0.9565 - val_loss: 0.2386 - val_accuracy: 0.9135\n",
      "Epoch 97/1000\n",
      "250/250 [==============================] - 4s 16ms/step - loss: 0.1172 - accuracy: 0.9548 - val_loss: 0.2248 - val_accuracy: 0.9175\n",
      "Epoch 98/1000\n",
      "250/250 [==============================] - 4s 17ms/step - loss: 0.1155 - accuracy: 0.9541 - val_loss: 0.2219 - val_accuracy: 0.9210\n",
      "Epoch 99/1000\n",
      "250/250 [==============================] - 4s 16ms/step - loss: 0.1191 - accuracy: 0.9517 - val_loss: 0.2102 - val_accuracy: 0.9185\n",
      "Epoch 100/1000\n",
      "250/250 [==============================] - 4s 17ms/step - loss: 0.1073 - accuracy: 0.9596 - val_loss: 0.2202 - val_accuracy: 0.9210\n",
      "Epoch 101/1000\n",
      "250/250 [==============================] - 4s 16ms/step - loss: 0.1083 - accuracy: 0.9561 - val_loss: 0.2214 - val_accuracy: 0.9200\n",
      "Epoch 102/1000\n",
      "250/250 [==============================] - 4s 16ms/step - loss: 0.1230 - accuracy: 0.9515 - val_loss: 0.2221 - val_accuracy: 0.9190\n",
      "Epoch 103/1000\n",
      "250/250 [==============================] - 4s 16ms/step - loss: 0.1027 - accuracy: 0.9592 - val_loss: 0.2304 - val_accuracy: 0.9130\n",
      "Epoch 104/1000\n",
      "250/250 [==============================] - 4s 17ms/step - loss: 0.1216 - accuracy: 0.9530 - val_loss: 0.2328 - val_accuracy: 0.9110\n",
      "Epoch 105/1000\n",
      "250/250 [==============================] - 4s 17ms/step - loss: 0.1027 - accuracy: 0.9605 - val_loss: 0.2180 - val_accuracy: 0.9195\n",
      "Epoch 106/1000\n",
      "250/250 [==============================] - 4s 17ms/step - loss: 0.1103 - accuracy: 0.9557 - val_loss: 0.2121 - val_accuracy: 0.9230\n",
      "Epoch 107/1000\n",
      "250/250 [==============================] - 5s 18ms/step - loss: 0.1070 - accuracy: 0.9574 - val_loss: 0.2409 - val_accuracy: 0.9075\n",
      "Epoch 108/1000\n",
      "250/250 [==============================] - 4s 16ms/step - loss: 0.1074 - accuracy: 0.9605 - val_loss: 0.2410 - val_accuracy: 0.9135\n",
      "Epoch 109/1000\n",
      "250/250 [==============================] - 4s 16ms/step - loss: 0.1054 - accuracy: 0.9584 - val_loss: 0.2346 - val_accuracy: 0.9175\n",
      "Epoch 110/1000\n",
      "250/250 [==============================] - 4s 16ms/step - loss: 0.1079 - accuracy: 0.9591 - val_loss: 0.2253 - val_accuracy: 0.9180\n",
      "Epoch 111/1000\n",
      "250/250 [==============================] - 4s 16ms/step - loss: 0.1065 - accuracy: 0.9596 - val_loss: 0.2262 - val_accuracy: 0.9200\n",
      "Epoch 112/1000\n",
      "250/250 [==============================] - 4s 16ms/step - loss: 0.1017 - accuracy: 0.9592 - val_loss: 0.3096 - val_accuracy: 0.8965\n",
      "Epoch 113/1000\n",
      "250/250 [==============================] - 4s 16ms/step - loss: 0.1060 - accuracy: 0.9569 - val_loss: 0.2171 - val_accuracy: 0.9195\n",
      "Epoch 114/1000\n",
      "250/250 [==============================] - 4s 16ms/step - loss: 0.1034 - accuracy: 0.9603 - val_loss: 0.2037 - val_accuracy: 0.9250\n",
      "Epoch 115/1000\n",
      "250/250 [==============================] - 5s 19ms/step - loss: 0.1063 - accuracy: 0.9586 - val_loss: 0.2177 - val_accuracy: 0.9195\n",
      "Epoch 116/1000\n",
      "250/250 [==============================] - 4s 16ms/step - loss: 0.1051 - accuracy: 0.9589 - val_loss: 0.2404 - val_accuracy: 0.9035\n",
      "Epoch 117/1000\n",
      "250/250 [==============================] - 4s 16ms/step - loss: 0.1003 - accuracy: 0.9632 - val_loss: 0.2243 - val_accuracy: 0.9180\n",
      "Epoch 118/1000\n",
      "250/250 [==============================] - 4s 16ms/step - loss: 0.0994 - accuracy: 0.9616 - val_loss: 0.2267 - val_accuracy: 0.9140\n",
      "Epoch 119/1000\n",
      "250/250 [==============================] - 4s 17ms/step - loss: 0.0975 - accuracy: 0.9611 - val_loss: 0.2190 - val_accuracy: 0.9180\n",
      "Epoch 120/1000\n",
      "250/250 [==============================] - 4s 17ms/step - loss: 0.1018 - accuracy: 0.9610 - val_loss: 0.2133 - val_accuracy: 0.9190\n",
      "Epoch 121/1000\n",
      "250/250 [==============================] - 4s 16ms/step - loss: 0.0967 - accuracy: 0.9644 - val_loss: 0.2284 - val_accuracy: 0.9205\n",
      "Epoch 122/1000\n",
      "250/250 [==============================] - 4s 16ms/step - loss: 0.0946 - accuracy: 0.9621 - val_loss: 0.2276 - val_accuracy: 0.9205\n",
      "Epoch 123/1000\n",
      "250/250 [==============================] - 5s 19ms/step - loss: 0.1038 - accuracy: 0.9574 - val_loss: 0.2178 - val_accuracy: 0.9245\n",
      "Epoch 124/1000\n",
      "250/250 [==============================] - 4s 16ms/step - loss: 0.0914 - accuracy: 0.9636 - val_loss: 0.2366 - val_accuracy: 0.9070\n",
      "Epoch 125/1000\n",
      "250/250 [==============================] - 4s 16ms/step - loss: 0.0935 - accuracy: 0.9651 - val_loss: 0.2325 - val_accuracy: 0.9160\n",
      "Epoch 126/1000\n",
      "250/250 [==============================] - 4s 16ms/step - loss: 0.0935 - accuracy: 0.9621 - val_loss: 0.2489 - val_accuracy: 0.9125\n",
      "Epoch 127/1000\n",
      "250/250 [==============================] - 4s 16ms/step - loss: 0.0882 - accuracy: 0.9656 - val_loss: 0.2472 - val_accuracy: 0.9145\n",
      "Epoch 128/1000\n",
      "250/250 [==============================] - 4s 16ms/step - loss: 0.0957 - accuracy: 0.9634 - val_loss: 0.2249 - val_accuracy: 0.9215\n",
      "Epoch 129/1000\n",
      "250/250 [==============================] - 4s 16ms/step - loss: 0.0923 - accuracy: 0.9644 - val_loss: 0.2449 - val_accuracy: 0.9170\n",
      "Epoch 130/1000\n",
      "250/250 [==============================] - 4s 16ms/step - loss: 0.0890 - accuracy: 0.9663 - val_loss: 0.2432 - val_accuracy: 0.9110\n",
      "Epoch 131/1000\n",
      "250/250 [==============================] - 5s 18ms/step - loss: 0.0889 - accuracy: 0.9641 - val_loss: 0.2670 - val_accuracy: 0.9085\n",
      "Epoch 132/1000\n",
      "250/250 [==============================] - 4s 17ms/step - loss: 0.0953 - accuracy: 0.9619 - val_loss: 0.2614 - val_accuracy: 0.9125\n",
      "Epoch 133/1000\n",
      "250/250 [==============================] - 4s 18ms/step - loss: 0.0954 - accuracy: 0.9617 - val_loss: 0.2652 - val_accuracy: 0.9095\n",
      "Epoch 134/1000\n",
      "250/250 [==============================] - 4s 16ms/step - loss: 0.0860 - accuracy: 0.9668 - val_loss: 0.2344 - val_accuracy: 0.9140\n",
      "Epoch 135/1000\n",
      "250/250 [==============================] - 4s 16ms/step - loss: 0.0940 - accuracy: 0.9634 - val_loss: 0.2283 - val_accuracy: 0.9275\n",
      "Epoch 136/1000\n",
      "250/250 [==============================] - 4s 16ms/step - loss: 0.0865 - accuracy: 0.9629 - val_loss: 0.2158 - val_accuracy: 0.9260\n",
      "Epoch 137/1000\n",
      "250/250 [==============================] - 4s 16ms/step - loss: 0.0850 - accuracy: 0.9655 - val_loss: 0.2298 - val_accuracy: 0.9205\n",
      "Epoch 138/1000\n",
      "250/250 [==============================] - 4s 17ms/step - loss: 0.0840 - accuracy: 0.9685 - val_loss: 0.2204 - val_accuracy: 0.9190\n",
      "Epoch 139/1000\n",
      "250/250 [==============================] - 4s 16ms/step - loss: 0.0878 - accuracy: 0.9676 - val_loss: 0.2342 - val_accuracy: 0.9080\n",
      "Epoch 140/1000\n",
      "250/250 [==============================] - 4s 17ms/step - loss: 0.0930 - accuracy: 0.9638 - val_loss: 0.2212 - val_accuracy: 0.9210\n",
      "Epoch 141/1000\n",
      "250/250 [==============================] - 4s 16ms/step - loss: 0.0885 - accuracy: 0.9651 - val_loss: 0.2187 - val_accuracy: 0.9210\n",
      "Epoch 142/1000\n",
      "250/250 [==============================] - 4s 16ms/step - loss: 0.0833 - accuracy: 0.9680 - val_loss: 0.2251 - val_accuracy: 0.9155\n",
      "Epoch 143/1000\n",
      "250/250 [==============================] - 4s 16ms/step - loss: 0.0877 - accuracy: 0.9650 - val_loss: 0.2336 - val_accuracy: 0.9125\n",
      "Epoch 144/1000\n",
      "250/250 [==============================] - 4s 16ms/step - loss: 0.0917 - accuracy: 0.9650 - val_loss: 0.2513 - val_accuracy: 0.9065\n",
      "Epoch 145/1000\n",
      "250/250 [==============================] - 4s 16ms/step - loss: 0.0900 - accuracy: 0.9635 - val_loss: 0.2189 - val_accuracy: 0.9245\n",
      "Epoch 146/1000\n",
      "250/250 [==============================] - 4s 16ms/step - loss: 0.0920 - accuracy: 0.9632 - val_loss: 0.2410 - val_accuracy: 0.9200\n",
      "Epoch 147/1000\n",
      "250/250 [==============================] - 4s 16ms/step - loss: 0.0809 - accuracy: 0.9701 - val_loss: 0.2325 - val_accuracy: 0.9180\n",
      "Epoch 148/1000\n",
      "250/250 [==============================] - 4s 18ms/step - loss: 0.0855 - accuracy: 0.9656 - val_loss: 0.2348 - val_accuracy: 0.9170\n",
      "Epoch 149/1000\n",
      "250/250 [==============================] - 4s 18ms/step - loss: 0.0880 - accuracy: 0.9651 - val_loss: 0.2303 - val_accuracy: 0.9165\n",
      "Epoch 150/1000\n",
      "250/250 [==============================] - 4s 16ms/step - loss: 0.0935 - accuracy: 0.9670 - val_loss: 0.2732 - val_accuracy: 0.9005\n",
      "Epoch 151/1000\n",
      "250/250 [==============================] - 4s 16ms/step - loss: 0.0875 - accuracy: 0.9671 - val_loss: 0.2625 - val_accuracy: 0.9080\n",
      "Epoch 152/1000\n",
      "250/250 [==============================] - 4s 16ms/step - loss: 0.0804 - accuracy: 0.9699 - val_loss: 0.2514 - val_accuracy: 0.9080\n",
      "Epoch 153/1000\n",
      "250/250 [==============================] - 4s 16ms/step - loss: 0.0866 - accuracy: 0.9686 - val_loss: 0.2234 - val_accuracy: 0.9295\n",
      "Epoch 154/1000\n",
      "250/250 [==============================] - 4s 17ms/step - loss: 0.0823 - accuracy: 0.9663 - val_loss: 0.2662 - val_accuracy: 0.9105\n",
      "Epoch 155/1000\n",
      "250/250 [==============================] - 4s 16ms/step - loss: 0.0930 - accuracy: 0.9631 - val_loss: 0.2264 - val_accuracy: 0.9185\n",
      "Epoch 156/1000\n",
      "250/250 [==============================] - 4s 16ms/step - loss: 0.0852 - accuracy: 0.9680 - val_loss: 0.2547 - val_accuracy: 0.9120\n",
      "Epoch 157/1000\n",
      "250/250 [==============================] - 4s 18ms/step - loss: 0.0811 - accuracy: 0.9694 - val_loss: 0.2327 - val_accuracy: 0.9200\n",
      "Epoch 158/1000\n",
      "250/250 [==============================] - 4s 16ms/step - loss: 0.0818 - accuracy: 0.9680 - val_loss: 0.2207 - val_accuracy: 0.9230\n",
      "Epoch 159/1000\n",
      "250/250 [==============================] - 4s 17ms/step - loss: 0.0806 - accuracy: 0.9685 - val_loss: 0.2445 - val_accuracy: 0.9165\n",
      "Epoch 160/1000\n",
      "250/250 [==============================] - 4s 16ms/step - loss: 0.0829 - accuracy: 0.9700 - val_loss: 0.2601 - val_accuracy: 0.9155\n",
      "Epoch 161/1000\n",
      "250/250 [==============================] - 4s 16ms/step - loss: 0.0864 - accuracy: 0.9647 - val_loss: 0.2229 - val_accuracy: 0.9210\n",
      "Epoch 162/1000\n",
      "250/250 [==============================] - 4s 17ms/step - loss: 0.0859 - accuracy: 0.9681 - val_loss: 0.2131 - val_accuracy: 0.9230\n",
      "Epoch 163/1000\n",
      "250/250 [==============================] - 4s 17ms/step - loss: 0.0805 - accuracy: 0.9706 - val_loss: 0.2185 - val_accuracy: 0.9250\n",
      "Epoch 164/1000\n",
      "250/250 [==============================] - 4s 16ms/step - loss: 0.0858 - accuracy: 0.9678 - val_loss: 0.2368 - val_accuracy: 0.9170\n",
      "Epoch 165/1000\n",
      "250/250 [==============================] - 4s 18ms/step - loss: 0.0802 - accuracy: 0.9675 - val_loss: 0.2367 - val_accuracy: 0.9170\n",
      "Epoch 166/1000\n",
      "250/250 [==============================] - 4s 17ms/step - loss: 0.0739 - accuracy: 0.9726 - val_loss: 0.2331 - val_accuracy: 0.9175\n",
      "Epoch 167/1000\n",
      "250/250 [==============================] - 4s 16ms/step - loss: 0.0766 - accuracy: 0.9693 - val_loss: 0.2710 - val_accuracy: 0.9080\n",
      "Epoch 168/1000\n",
      "250/250 [==============================] - 4s 16ms/step - loss: 0.0750 - accuracy: 0.9720 - val_loss: 0.2513 - val_accuracy: 0.9220\n",
      "Epoch 169/1000\n",
      "250/250 [==============================] - 4s 16ms/step - loss: 0.0759 - accuracy: 0.9715 - val_loss: 0.2524 - val_accuracy: 0.9170\n",
      "Epoch 170/1000\n",
      "250/250 [==============================] - 4s 16ms/step - loss: 0.0688 - accuracy: 0.9736 - val_loss: 0.2445 - val_accuracy: 0.9180\n",
      "Epoch 171/1000\n",
      "250/250 [==============================] - 4s 16ms/step - loss: 0.0751 - accuracy: 0.9716 - val_loss: 0.2521 - val_accuracy: 0.9170\n",
      "Epoch 172/1000\n",
      "250/250 [==============================] - 4s 16ms/step - loss: 0.0792 - accuracy: 0.9715 - val_loss: 0.2597 - val_accuracy: 0.9195\n",
      "Epoch 173/1000\n",
      "250/250 [==============================] - 4s 16ms/step - loss: 0.0817 - accuracy: 0.9682 - val_loss: 0.2635 - val_accuracy: 0.9115\n",
      "Epoch 174/1000\n",
      "250/250 [==============================] - 4s 17ms/step - loss: 0.0744 - accuracy: 0.9697 - val_loss: 0.2295 - val_accuracy: 0.9215\n",
      "Epoch 175/1000\n",
      "250/250 [==============================] - 4s 17ms/step - loss: 0.0780 - accuracy: 0.9720 - val_loss: 0.2197 - val_accuracy: 0.9245\n",
      "Epoch 176/1000\n",
      "250/250 [==============================] - 4s 16ms/step - loss: 0.0762 - accuracy: 0.9719 - val_loss: 0.2378 - val_accuracy: 0.9195\n",
      "Epoch 177/1000\n",
      "250/250 [==============================] - 4s 17ms/step - loss: 0.0702 - accuracy: 0.9722 - val_loss: 0.2304 - val_accuracy: 0.9225\n",
      "Epoch 178/1000\n",
      "250/250 [==============================] - 4s 17ms/step - loss: 0.0764 - accuracy: 0.9721 - val_loss: 0.2365 - val_accuracy: 0.9260\n",
      "Epoch 179/1000\n",
      "250/250 [==============================] - 4s 16ms/step - loss: 0.0817 - accuracy: 0.9701 - val_loss: 0.2444 - val_accuracy: 0.9140\n",
      "Epoch 180/1000\n",
      "250/250 [==============================] - 4s 16ms/step - loss: 0.0696 - accuracy: 0.9746 - val_loss: 0.2370 - val_accuracy: 0.9200\n",
      "Epoch 181/1000\n",
      "250/250 [==============================] - 4s 16ms/step - loss: 0.0679 - accuracy: 0.9743 - val_loss: 0.2462 - val_accuracy: 0.9185\n",
      "Epoch 182/1000\n",
      "250/250 [==============================] - 4s 16ms/step - loss: 0.0714 - accuracy: 0.9732 - val_loss: 0.2207 - val_accuracy: 0.9290\n",
      "Epoch 183/1000\n",
      "250/250 [==============================] - 4s 17ms/step - loss: 0.0809 - accuracy: 0.9709 - val_loss: 0.2443 - val_accuracy: 0.9215\n"
     ]
    }
   ],
   "source": [
    "earlystopping = EarlyStopping(monitor =\"val_accuracy\",\n",
    "                              mode = 'auto', patience = 30,\n",
    "                              restore_best_weights = True)\n",
    "\n",
    "opt = keras.optimizers.Adam(learning_rate=0.01)\n",
    "momentum = 0.8\n",
    "dp = 0.5\n",
    "\n",
    "model = Sequential()\n",
    "\n",
    "model.add(Conv2D(128, (3, 3), input_shape = X.shape[1:]))\n",
    "model.add(BatchNormalization(momentum=momentum))\n",
    "model.add(Activation('relu'))\n",
    "model.add(MaxPooling2D(pool_size=(2, 2), padding='same'))\n",
    "model.add(Dropout(dp))\n",
    "\n",
    "\n",
    "model.add(Conv2D(256, (3, 3)))\n",
    "model.add(BatchNormalization(momentum=momentum))\n",
    "model.add(Activation('relu'))\n",
    "model.add(MaxPooling2D(pool_size=(2, 2), padding='same'))\n",
    "model.add(Dropout(dp))\n",
    "\n",
    "\n",
    "model.add(Conv2D(256, (3, 3)))\n",
    "model.add(BatchNormalization(momentum=momentum))\n",
    "model.add(Activation('relu'))\n",
    "model.add(MaxPooling2D(pool_size=(2, 2), padding='same'))\n",
    "model.add(Dropout(dp))\n",
    "\n",
    "\n",
    "model.add(Conv2D(128, (3, 3)))\n",
    "model.add(BatchNormalization(momentum=momentum))\n",
    "model.add(Activation('relu'))\n",
    "model.add(MaxPooling2D(pool_size=(2, 2), padding='same'))\n",
    "model.add(Dropout(dp))\n",
    "\n",
    "# model.add(Conv2D(64, (3, 3)))\n",
    "# model.add(BatchNormalization(momentum=momentum))\n",
    "# model.add(Activation('relu'))\n",
    "# model.add(MaxPooling2D(pool_size=(2, 2), padding='same'))\n",
    "# model.add(Dropout(dp))\n",
    "\n",
    "model.add(Flatten())\n",
    "\n",
    "\n",
    "model.add(Dense(1))\n",
    "model.add(Activation('sigmoid'))\n",
    "\n",
    "model.compile(loss='binary_crossentropy', optimizer=\"adam\", metrics=['accuracy'])\n",
    "\n",
    "EPOCHS = 1000\n",
    "\n",
    "history = model.fit(datagen.flow(X, y), batch_size=16, epochs=EPOCHS,\n",
    "                    validation_data=(test_sample, actual),callbacks = [earlystopping])"
   ]
  },
  {
   "cell_type": "code",
   "execution_count": 7,
   "metadata": {
    "execution": {
     "iopub.execute_input": "2020-10-24T18:29:39.584624Z",
     "iopub.status.busy": "2020-10-24T18:29:39.583199Z",
     "iopub.status.idle": "2020-10-24T18:29:39.587335Z",
     "shell.execute_reply": "2020-10-24T18:29:39.585187Z"
    },
    "papermill": {
     "duration": 4.076116,
     "end_time": "2020-10-24T18:29:39.587450",
     "exception": false,
     "start_time": "2020-10-24T18:29:35.511334",
     "status": "completed"
    },
    "tags": []
   },
   "outputs": [
    {
     "name": "stdout",
     "output_type": "stream",
     "text": [
      "Max. Validation Accuracy: 92.95%\n"
     ]
    }
   ],
   "source": [
    "print(\"Max. Validation Accuracy: {}%\".format(round(100*max(history.history['val_accuracy']), 2)))"
   ]
  },
  {
   "cell_type": "markdown",
   "metadata": {
    "papermill": {
     "duration": 4.136567,
     "end_time": "2020-10-24T18:29:48.030739",
     "exception": false,
     "start_time": "2020-10-24T18:29:43.894172",
     "status": "completed"
    },
    "tags": []
   },
   "source": [
    "## Visualizing Model Loss and Accuracy"
   ]
  },
  {
   "cell_type": "code",
   "execution_count": 8,
   "metadata": {
    "_kg_hide-input": true,
    "execution": {
     "iopub.execute_input": "2020-10-24T18:29:56.487326Z",
     "iopub.status.busy": "2020-10-24T18:29:56.486699Z",
     "iopub.status.idle": "2020-10-24T18:29:56.894603Z",
     "shell.execute_reply": "2020-10-24T18:29:56.894039Z"
    },
    "papermill": {
     "duration": 4.75217,
     "end_time": "2020-10-24T18:29:56.894722",
     "exception": false,
     "start_time": "2020-10-24T18:29:52.142552",
     "status": "completed"
    },
    "tags": []
   },
   "outputs": [
    {
     "data": {
      "image/png": "[encoded data removed]",
      "text/plain": [
       "<Figure size 1080x360 with 2 Axes>"
      ]
     },
     "metadata": {
      "needs_background": "light"
     },
     "output_type": "display_data"
    }
   ],
   "source": [
    "fig = plt.figure(figsize=(15, 5))\n",
    "plt.subplot(1, 2, 1)\n",
    "loss_train = history.history['loss']\n",
    "loss_val = history.history['val_loss']\n",
    "epochs = range(1,len(loss_val)+1)\n",
    "plt.plot(epochs, loss_train, 'g', label='Training loss')\n",
    "plt.plot(epochs, loss_val, 'b', label='Validation loss')\n",
    "plt.title('Training and Validation loss')\n",
    "plt.xlabel('Epochs')\n",
    "plt.ylabel('Loss')\n",
    "plt.legend()\n",
    "\n",
    "plt.subplot(1, 2, 2)\n",
    "acc_train = history.history['accuracy']\n",
    "acc_val = history.history['val_accuracy']\n",
    "epochs = range(1,len(acc_val)+1)\n",
    "plt.plot(epochs, acc_train, 'g', label='Training accuracy')\n",
    "plt.plot(epochs, acc_val, 'b', label='Validation accuracy')\n",
    "plt.title('Training and Validation accuracy')\n",
    "plt.xlabel('Epochs')\n",
    "plt.ylabel('Accuracy')\n",
    "plt.legend()\n",
    "plt.show()\n"
   ]
  },
  {
   "cell_type": "markdown",
   "metadata": {
    "papermill": {
     "duration": 4.828345,
     "end_time": "2020-10-24T18:30:06.081015",
     "exception": false,
     "start_time": "2020-10-24T18:30:01.252670",
     "status": "completed"
    },
    "tags": []
   },
   "source": [
    "### Highest Accuracy Achieved: 92%"
   ]
  }
 ],
 "metadata": {
  "kernelspec": {
   "display_name": "Python 3",
   "language": "python",
   "name": "python3"
  },
  "language_info": {
   "codemirror_mode": {
    "name": "ipython",
    "version": 3
   },
   "file_extension": ".py",
   "mimetype": "text/x-python",
   "name": "python",
   "nbconvert_exporter": "python",
   "pygments_lexer": "ipython3",
   "version": "3.7.6"
  },
  "papermill": {
   "duration": 865.066176,
   "end_time": "2020-10-24T18:30:12.430318",
   "environment_variables": {},
   "exception": null,
   "input_path": "__notebook__.ipynb",
   "output_path": "__notebook__.ipynb",
   "parameters": {},
   "start_time": "2020-10-24T18:15:47.364142",
   "version": "2.1.0"
  }
 },
 "nbformat": 4,
 "nbformat_minor": 4
}
